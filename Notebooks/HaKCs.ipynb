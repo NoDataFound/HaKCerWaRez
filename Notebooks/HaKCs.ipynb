{
 "cells": [
  {
   "cell_type": "markdown",
   "id": "89a13ba3-7bbc-4351-bd56-380479dcd576",
   "metadata": {},
   "source": [
    "```\n",
    "                                                                               \n",
    "                                                   %@@@%&%/&(((                 \n",
    "                                                  &%%##%&&&&&@&(.               \n",
    "                                                %#**/,,,,,..,*((/*              \n",
    "                                     .......(  %#&@%///%%(,.,,(%/#              \n",
    "                                 .(,...&@@,*,@@(/*%(.,(#(/#((#/((#&             \n",
    "                           &&&@@&....,%@@@@@@@%&&%%%(,,%*..,*#&%&@%             \n",
    "                    ,@@@@@@@@@@@@***,..,#%%@ /#%@@@%.*&%%***/&%&&   HA HA             \n",
    "              @@&&&&@@@@@@@@@@@@@&( @@      ( &%&&#*,,*/////,*/*         HAKCINGGGGG       \n",
    "       %@@@@@@@@@@@@@@@@@@@@@@@@@@#          /&&%#*,,*/((#(&@@                  \n",
    "      @@@@@@@@@@@@@@@@@@@@@@@@@@@@@@@@@     *&@@&&%%%%%###@           /%&*,..,. \n",
    "       @@@@@@@@@@@@@@@@@@@@@@@@@@@@&@@@@@@@@((@&&%####(((              &#*..,,/ \n",
    "         @@@@@@@@@@@@@@@@@@@@@@@@@@@&&@@@@(#&#(# .......*&&            %/,..**  \n",
    "           @@@@@@@@@@@@@&@@@@@@@@@@@&@@@&.%#*,*(..    *..&&           (@@@@@@@  \n",
    "             @@@@@@@@@@&@@@@@@@@@@@@@@&@&(#/#/*##*.   (&@&&%%%,       @@@@@@@@. \n",
    "                #@@@@@@@@@@@@@@@@@@@@/&(%(/,,.. ,.***@@@@@@@@@@@&%#,  @@@@@@@&& \n",
    "                      @@@@@@@@@@@@%.%(#*//#* .. .,*%@@@@@@@@@@@@@@&&@@@@@@@@&@@#\n",
    "                     @@@@@@@@@@,.*#/(/%,/% .   .,@&@@@@@@@@@@@@@@@@@@@@@@@@@&&@\n",
    "                   @&@@@@@@@@@@*.#/*#*,%,/ ..  ./@@@@@@@@@@@@@@@@@@@@@@&@@@@&@@ \n",
    "                  @&@@@@@@@@(,.(((#/,(//(......(@@@@@@@@@@@@@@@@@@@@@@@@&@@@@@@@\n",
    "                @@@@@@@@@@( ..(*(#*%/,/......,#@@@@@@@@@@@@@@@@@@@@@@@@@@@@@@@@ \n",
    "               @@@@@@@@(. .%(#*(#/&,*...  ../@@@@@@@@@@@@@@@@@@@@@@@@@@@@@@@@@ \n",
    "             @@@@&@@&,..,(%/#//*(,(.........(@@@@@@@@@@@@@@@@@@@@@@@@@@@@@@@@@ \n",
    "           @@@@@@@%&%.(*(*(///#*#/.. ........&@@@@@@@@@@@@@        @@@@@@@@@@  \n",
    "          @@@@@@@@@@&&/%/(/*#,//,..        ..,@@@@@@@@@@@@@         @@@@@@@ \n",
    "        ,(@@@@@@@@@@@##(#/((*(*#.,............@@@@@@@@@@@@@@             \n",
    "              \n",
    "```"
   ]
  },
  {
   "cell_type": "markdown",
   "id": "0d0783df-7743-463a-8dc2-8b679a4b06bf",
   "metadata": {
    "tags": []
   },
   "source": [
    "```\n",
    "░░░░░░░░░░░░░░░░░░░░░░░░░░░░░░░░▒▓█ Setup █▓▒░░░░░░░░░░░░░░░░░░░░░░░░░░░░░░░░░\n",
    "```"
   ]
  },
  {
   "cell_type": "code",
   "execution_count": null,
   "id": "8d4400cd",
   "metadata": {},
   "outputs": [],
   "source": [
    "import os\n",
    "pyenver = os.system(\"pyenv versions\")\n",
    "print(\"If using VScode, make sure pyenv version matches your kernel version\")\n",
    "os.system(\"pyenv local 3.10.2\")\n",
    "packages = open(\"../requirements.txt\", \"r\")\n",
    "#pythonver = os.system(\"which python3\")\n",
    "#os.system(\"python3 -m pip install --upgrade pip\")\n",
    "for req in packages:\n",
    "    pip_package = req.strip()\n",
    "    \n",
    "try:\n",
    "    __import__(pip_package)\n",
    "except:\n",
    "    os.system(\"python3 -m pip install \"+ pip_package)"
   ]
  },
  {
   "cell_type": "markdown",
   "id": "26abf135-1531-420a-ba45-d51633f924a7",
   "metadata": {
    "tags": []
   },
   "source": [
    "```\n",
    "░░░░░░░░░░░░░░░░░░░░░░░░░░░░░░░░▒▓█ Parse URL's for domains █▓▒░░░░░░░░░░░░░░░░░░░░░░░░░░░░░░░░░\n",
    "```"
   ]
  },
  {
   "cell_type": "code",
   "execution_count": null,
   "id": "e9373c13-2c35-41e0-9a23-0d586c7fc5ee",
   "metadata": {
    "tags": []
   },
   "outputs": [],
   "source": [
    "from newspaper import Article\n",
    "from ioc_finder import find_iocs\n",
    "import json\n",
    "import requests\n",
    "from bs4 import BeautifulSoup\n",
    "import os\n",
    "from pathlib import Path\n",
    "\n",
    "url_list = open('input/inurls.txt', 'r')\n",
    "urls = url_list.readlines()\n",
    "\n",
    "for url in urls:\n",
    "    print(url)\n",
    "    article = Article(url)\n",
    "    article.download()\n",
    "    article.parse()\n",
    "    article.nlp()\n",
    "    \n",
    "    response = requests.get(url)\n",
    "    webpage = response.content\n",
    "    text = article.html\n",
    "    iocs = find_iocs(text)   \n",
    "    path = \"/Users/0xdeadbeef/Repositories/HaKCerWaRez/Notebooks/output/gitshit/outurls.json\"\n",
    "    data = json.dumps(iocs,  indent = 3)\n",
    "    print(\"Reading\"+ data +\"and caving it up real nice.\")\n",
    "    with open(path,\"a\") as articleioc:\n",
    "        articleioc.write(data)\n",
    "        articleioc.close()\n",
    "    for loot in path:\n",
    "        with open(path, 'r') as f:\n",
    "            print(f.read())"
   ]
  },
  {
   "cell_type": "markdown",
   "id": "26abf135-1531-420a-ba45-d51633f924a7",
   "metadata": {
    "tags": []
   },
   "source": [
    "```\n",
    "░░░░░░░░░░░░░░░░░░░░░░░░░░░░░░░░▒▓█ Making github userlist █▓▒░░░░░░░░░░░░░░░░░░░░░░░░░░░░░░░░░\n",
    "```"
   ]
  },
  {
   "cell_type": "code",
   "execution_count": null,
   "id": "584efd66-9b6d-467c-a90a-75af67baba43",
   "metadata": {
    "tags": []
   },
   "outputs": [],
   "source": [
    "%%sh\n",
    "#!/bin/bash\n",
    "cat '/Users/0xdeadbeef/Repositories/HaKCerWaRez/Notebooks/output/gitshit/outurls.json' | jq -r '.domains' | cut -d '\"' -f2 | grep -wv 'www' | grep -wv '\\[*' |cut -d '.' -f1  > '/Users/0xdeadbeef/Repositories/HaKCerWaRez/Notebooks/output/gitshit/gitusers.txt'"
   ]
  },
  {
   "cell_type": "markdown",
   "id": "e1d9023b-82bc-4cb2-a561-80f04c781198",
   "metadata": {
    "tags": []
   },
   "source": [
    "```\n",
    "░░░░░░░░░░░░░░░░░░░░░░░░░░░░░░░░▒▓█ gitting SHITTT █▓▒░░░░░░░░░░░░░░░░░░░░░░░░░░░░░░░░░░\n",
    "```"
   ]
  },
  {
   "cell_type": "code",
   "execution_count": null,
   "id": "c85aefe1-8d6a-4c2f-9ff7-49cf07a1f367",
   "metadata": {
    "collapsed": true,
    "jupyter": {
     "outputs_hidden": true,
     "source_hidden": true
    },
    "tags": []
   },
   "outputs": [],
   "source": [
    "%%sh\n",
    "#!/bin/bash\n",
    "#part 0/1\n",
    "# I am a simple shell script that downloads all repositories from a user and then hunts them for sh1t.\n",
    "file=\"/Users/0xdeadbeef/Repositories/HaKCerWaRez/Notebooks/output/gitshit/gitusers.txt\"\n",
    "echo $file\n",
    "n=1\n",
    "n=$((n+1))\n",
    "cd /Users/0xdeadbeef/Repositories/HaKCerWaRez/Notebooks/output/gitshit/loot\n",
    "while read line; do\n",
    "    gituser=$(echo $line)\n",
    "    gituser=$line\n",
    "    mkdir /Users/0xdeadbeef/Repositories/HaKCerWaRez/Notebooks/output/gitshit/loot/$gituser\n",
    "    cd /Users/0xdeadbeef/Repositories/HaKCerWaRez/Notebooks/output/gitshit/loot/$gituser\n",
    "    curl -s \"https://api.github.com/users/$gituser/repos?per_page=1000\" | grep \\\"clone_url\\\" | awk '{print $2}' | sed -e 's/\"//g' -e 's/,//g' | xargs -n1 git clone\n",
    "    cd ..\n",
    "done < $file\n"
   
   ]
  },
  {
   "cell_type": "markdown",
   "id": "bd5787e0",
   "metadata": {},
   "source": [
    "```\n",
    "░░░░░░░░░░░░░░░░░░░░░░░░░░░░░░░░▒▓█ parsing shit █▓▒░░░░░░░░░░░░░░░░░░░░░░░░░░░░░░░░░░\n",
    "```"
   ]
  },
  {
   "cell_type": "code",
   "execution_count": null,
   "id": "2e2a4c28",
   "metadata": {},
   "outputs": [],
   "source": [
    "%%sh\n",
    "#!/bin/bash\n",
    "#part 1/1\n",
    "# I am a simple shell script that downloads all repositories from a user and then hunts them for sh1t.\n",
    "echo \"\"\n",
    "echo \"  .,-:::::/  ::::::::::::::: .::::::.   ::   .:  :.::::::::::::\n",
    ",;;-''''''   ;;;;;;;;;;;'''';;;'    '  ,;;   ;;, ;;;;;;;;;;''''\n",
    "[[[   [[[[[[/[[[     [[     '[==/[[[[,,[[[,,,[[[ [[     [[\n",
    "'SSc.    'SS SSS     SS       '''    $'SS$''SS$ SS     SS\n",
    " 'Y8bo,,,o88o888     88,     88b    dP 888   '88o88     88,\n",
    "   ''YMUP'YMMMMM     MMM      'YMmMY'  MMM    YMMMM     MMM \"\n",
    "echo \"░░░░░░░░░░░░░░░░░░░░▒▓█[Git💩]█▓▒░░░░░░░░░░░░░░░░░░░░░░░░\"\n",
    "echo \"\n",
    "                Feed me a github username\n",
    "                & I will moove it moove it\n",
    "                and bring you some sh1t\n",
    "                        \\   ^__^\n",
    "                         \\  (oo)\\_______\n",
    "                            (__)\\       )\\/\n",
    "                                ||---23 | 💩\n",
    "                                ||     || \"\n",
    "echo \"\"\n",
    "shit=\"/Users/0xdeadbeef/Repositories/HaKCerWaRez/Notebooks/output/gitshit/loot/*\"    \n",
    "for r in `find $shit -path ./git -prune -o -type d -mindepth 1 -maxdepth 1` ; do\n",
    "    echo $r\n",
    "    `gitleaks detect --source \"$r\" -v -l debug -r thisreportissh1t.json -f json >> $r/sh1t.json`\n",
    "done\n",
    "\n",
    "find . -name 'sh1t.json' -exec cat {} \\;\n",
    "echo \"Go check out how full of 💩 all the 💩 I found in $gituser\""
   ]
  }
 ],
 "metadata": {
  "kernelspec": {
   "display_name": "Python 3.8.9 64-bit",
   "language": "python",
   "name": "python3"
  },
  "language_info": {
   "codemirror_mode": {
    "name": "ipython",
    "version": 3
   },
   "file_extension": ".py",
   "mimetype": "text/x-python",
   "name": "python",
   "nbconvert_exporter": "python",
   "pygments_lexer": "ipython3",
   "version": "3.8.9"
  },
  "vscode": {
   "interpreter": {
    "hash": "31f2aee4e71d21fbe5cf8b01ff0e069b9275f58929596ceb00d14d90e3e16cd6"
   }
  }
 },
 "nbformat": 4,
 "nbformat_minor": 5
}
