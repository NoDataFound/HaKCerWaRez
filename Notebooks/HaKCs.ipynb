{
 "cells": [
  {
   "cell_type": "markdown",
   "id": "89a13ba3-7bbc-4351-bd56-380479dcd576",
   "metadata": {},
   "source": [
    "```\n",
    "                                                                               \n",
    "                                                   %@@@%&%/&(((                 \n",
    "                                                  &%%##%&&&&&@&(.               \n",
    "                                                %#**/,,,,,..,*((/*              \n",
    "                                     .......(  %#&@%///%%(,.,,(%/#              \n",
    "                                 .(,...&@@,*,@@(/*%(.,(#(/#((#/((#&             \n",
    "                           &&&@@&....,%@@@@@@@%&&%%%(,,%*..,*#&%&@%             \n",
    "                    ,@@@@@@@@@@@@***,..,#%%@ /#%@@@%.*&%%***/&%&&   HA HA             \n",
    "              @@&&&&@@@@@@@@@@@@@&( @@      ( &%&&#*,,*/////,*/*         HAKCINGGGGG       \n",
    "       %@@@@@@@@@@@@@@@@@@@@@@@@@@#          /&&%#*,,*/((#(&@@                  \n",
    "      @@@@@@@@@@@@@@@@@@@@@@@@@@@@@@@@@     *&@@&&%%%%%###@           /%&*,..,. \n",
    "       @@@@@@@@@@@@@@@@@@@@@@@@@@@@&@@@@@@@@((@&&%####(((              &#*..,,/ \n",
    "         @@@@@@@@@@@@@@@@@@@@@@@@@@@&&@@@@(#&#(# .......*&&            %/,..**  \n",
    "           @@@@@@@@@@@@@&@@@@@@@@@@@&@@@&.%#*,*(..    *..&&           (@@@@@@@  \n",
    "             @@@@@@@@@@&@@@@@@@@@@@@@@&@&(#/#/*##*.   (&@&&%%%,       @@@@@@@@. \n",
    "                #@@@@@@@@@@@@@@@@@@@@/&(%(/,,.. ,.***@@@@@@@@@@@&%#,  @@@@@@@&& \n",
    "                      @@@@@@@@@@@@%.%(#*//#* .. .,*%@@@@@@@@@@@@@@&&@@@@@@@@&@@#\n",
    "                     @@@@@@@@@@,.*#/(/%,/% .   .,@&@@@@@@@@@@@@@@@@@@@@@@@@@&&@\n",
    "                   @&@@@@@@@@@@*.#/*#*,%,/ ..  ./@@@@@@@@@@@@@@@@@@@@@@&@@@@&@@ \n",
    "                  @&@@@@@@@@(,.(((#/,(//(......(@@@@@@@@@@@@@@@@@@@@@@@@&@@@@@@@\n",
    "                @@@@@@@@@@( ..(*(#*%/,/......,#@@@@@@@@@@@@@@@@@@@@@@@@@@@@@@@@ \n",
    "               @@@@@@@@(. .%(#*(#/&,*...  ../@@@@@@@@@@@@@@@@@@@@@@@@@@@@@@@@@ \n",
    "             @@@@&@@&,..,(%/#//*(,(.........(@@@@@@@@@@@@@@@@@@@@@@@@@@@@@@@@@ \n",
    "           @@@@@@@%&%.(*(*(///#*#/.. ........&@@@@@@@@@@@@@        @@@@@@@@@@  \n",
    "          @@@@@@@@@@&&/%/(/*#,//,..        ..,@@@@@@@@@@@@@         @@@@@@@ \n",
    "        ,(@@@@@@@@@@@##(#/((*(*#.,............@@@@@@@@@@@@@@             \n",
    "              \n",
    "```"
   ]
  },
  {
   "cell_type": "markdown",
   "id": "0d0783df-7743-463a-8dc2-8b679a4b06bf",
   "metadata": {
    "tags": []
   },
   "source": [
    "```\n",
    "░░░░░░░░░░░░░░░░░░░░░░░░░░░░░░░░▒▓█ Setup █▓▒░░░░░░░░░░░░░░░░░░░░░░░░░░░░░░░░░\n",
    "```"
   ]
  },
  {
   "cell_type": "code",
   "execution_count": null,
   "metadata": {},
   "outputs": [],
   "source": []
  },
  {
   "cell_type": "code",
   "execution_count": 1,
   "id": "8d4400cd",
   "metadata": {},
   "outputs": [
    {
     "name": "stdout",
     "output_type": "stream",
     "text": [
      "If using VScode, make sure pyenv version matches your kernel version\n"
     ]
    },
    {
     "name": "stderr",
     "output_type": "stream",
     "text": [
      "sh: pyenv: command not found\n",
      "sh: pyenv: command not found\n"
     ]
    }
   ],
   "source": [
    "import os\n",
    "pyenver = os.system(\"pyenv versions\")\n",
    "print(\"If using VScode, make sure pyenv version matches your kernel version\")\n",
    "os.system(\"pyenv local 3.10.2\")\n",
    "packages = open(\"../requirements.txt\", \"r\")\n",
    "#pythonver = os.system(\"which python3\")\n",
    "#os.system(\"python3 -m pip install --upgrade pip\")\n",
    "for req in packages:\n",
    "    pip_package = req.strip()\n",
    "    \n",
    "try:\n",
    "    __import__(pip_package)\n",
    "except:\n",
    "    os.system(\"python3 -m pip install \"+ pip_package)"
   ]
  },
  {
   "cell_type": "markdown",
   "id": "26abf135-1531-420a-ba45-d51633f924a7",
   "metadata": {
    "tags": []
   },
   "source": [
    "```\n",
    "░░░░░░░░░░░░░░░░░░░░░░░░░░░░░░░░▒▓█ Parse URL's for domains █▓▒░░░░░░░░░░░░░░░░░░░░░░░░░░░░░░░░░\n",
    "```"
   ]
  },
  {
   "cell_type": "code",
   "execution_count": null,
   "id": "e9373c13-2c35-41e0-9a23-0d586c7fc5ee",
   "metadata": {
    "tags": []
   },
   "outputs": [],
   "source": [
    "from newspaper import Article\n",
    "from ioc_finder import find_iocs\n",
    "import json\n",
    "import requests\n",
    "from bs4 import BeautifulSoup\n",
    "import os\n",
    "from pathlib import Path\n",
    "\n",
    "url_list = open('input/inurls.txt', 'r')\n",
    "urls = url_list.readlines()\n",
    "\n",
    "for url in urls:\n",
    "    print(url)\n",
    "    article = Article(url)\n",
    "    article.download()\n",
    "    article.parse()\n",
    "    article.nlp()\n",
    "    \n",
    "    response = requests.get(url)\n",
    "    webpage = response.content\n",
    "    text = article.html\n",
    "    iocs = find_iocs(text)   \n",
    "    path = \"/Users/0xdeadbeef/Repositories/HaKCerWaRez/Notebooks/output/gitshit/outurls.json\"\n",
    "    data = json.dumps(iocs,  indent = 3)\n",
    "    print(\"Reading\"+ data +\"and caving it up real nice.\")\n",
    "    with open(path,\"a\") as articleioc:\n",
    "        articleioc.write(data)\n",
    "        articleioc.close()\n",
    "    for loot in path:\n",
    "        with open(path, 'r') as f:\n",
    "            print(f.read())"
   ]
  },
  {
   "cell_type": "markdown",
   "id": "26abf135-1531-420a-ba45-d51633f924a7",
   "metadata": {
    "tags": []
   },
   "source": [
    "```\n",
    "░░░░░░░░░░░░░░░░░░░░░░░░░░░░░░░░▒▓█ Making github userlist █▓▒░░░░░░░░░░░░░░░░░░░░░░░░░░░░░░░░░\n",
    "```"
   ]
  },
  {
   "cell_type": "code",
   "execution_count": 3,
   "id": "584efd66-9b6d-467c-a90a-75af67baba43",
   "metadata": {
    "tags": []
   },
   "outputs": [
    {
     "name": "stderr",
     "output_type": "stream",
     "text": [
      "cat: output/gitsh1t/outurls.json: No such file or directory\n",
      "sh: line 2: output/gitsh1t/gitusers.txt: No such file or directory\n"
     ]
    },
    {
     "ename": "CalledProcessError",
     "evalue": "Command 'b'#!/bin/bash\\ncat \\'output/gitsh1t/outurls.json\\' | jq -r \\'.domains\\' | cut -d \\'\"\\' -f2 | grep -wv \\'www\\' | grep -wv \\'\\\\[*\\' |cut -d \\'.\\' -f1  > \\'output/gitsh1t/gitusers.txt\\'\\n'' returned non-zero exit status 1.",
     "output_type": "error",
     "traceback": [
      "\u001b[0;31m---------------------------------------------------------------------------\u001b[0m",
      "\u001b[0;31mCalledProcessError\u001b[0m                        Traceback (most recent call last)",
      "\u001b[1;32m/Users/0xdeadbeef/Repositories/HaKCerWaRez/Notebooks/HaKCs.ipynb Cell 8\u001b[0m in \u001b[0;36m<cell line: 1>\u001b[0;34m()\u001b[0m\n\u001b[0;32m----> <a href='vscode-notebook-cell:/Users/0xdeadbeef/Repositories/HaKCerWaRez/Notebooks/HaKCs.ipynb#X10sZmlsZQ%3D%3D?line=0'>1</a>\u001b[0m get_ipython()\u001b[39m.\u001b[39;49mrun_cell_magic(\u001b[39m'\u001b[39;49m\u001b[39msh\u001b[39;49m\u001b[39m'\u001b[39;49m, \u001b[39m'\u001b[39;49m\u001b[39m'\u001b[39;49m, \u001b[39m'\u001b[39;49m\u001b[39m#!/bin/bash\u001b[39;49m\u001b[39m\\n\u001b[39;49;00m\u001b[39mcat \u001b[39;49m\u001b[39m\\'\u001b[39;49;00m\u001b[39moutput/gitsh1t/outurls.json\u001b[39;49m\u001b[39m\\'\u001b[39;49;00m\u001b[39m | jq -r \u001b[39;49m\u001b[39m\\'\u001b[39;49;00m\u001b[39m.domains\u001b[39;49m\u001b[39m\\'\u001b[39;49;00m\u001b[39m | cut -d \u001b[39;49m\u001b[39m\\'\u001b[39;49;00m\u001b[39m\"\u001b[39;49m\u001b[39m\\'\u001b[39;49;00m\u001b[39m -f2 | grep -wv \u001b[39;49m\u001b[39m\\'\u001b[39;49;00m\u001b[39mwww\u001b[39;49m\u001b[39m\\'\u001b[39;49;00m\u001b[39m | grep -wv \u001b[39;49m\u001b[39m\\'\u001b[39;49;00m\u001b[39m\\\\\u001b[39;49;00m\u001b[39m[*\u001b[39;49m\u001b[39m\\'\u001b[39;49;00m\u001b[39m |cut -d \u001b[39;49m\u001b[39m\\'\u001b[39;49;00m\u001b[39m.\u001b[39;49m\u001b[39m\\'\u001b[39;49;00m\u001b[39m -f1  > \u001b[39;49m\u001b[39m\\'\u001b[39;49;00m\u001b[39moutput/gitsh1t/gitusers.txt\u001b[39;49m\u001b[39m\\'\u001b[39;49;00m\u001b[39m\\n\u001b[39;49;00m\u001b[39m'\u001b[39;49m)\n",
      "File \u001b[0;32m~/opt/anaconda3/lib/python3.9/site-packages/IPython/core/interactiveshell.py:2347\u001b[0m, in \u001b[0;36mInteractiveShell.run_cell_magic\u001b[0;34m(self, magic_name, line, cell)\u001b[0m\n\u001b[1;32m   2345\u001b[0m \u001b[39mwith\u001b[39;00m \u001b[39mself\u001b[39m\u001b[39m.\u001b[39mbuiltin_trap:\n\u001b[1;32m   2346\u001b[0m     args \u001b[39m=\u001b[39m (magic_arg_s, cell)\n\u001b[0;32m-> 2347\u001b[0m     result \u001b[39m=\u001b[39m fn(\u001b[39m*\u001b[39;49margs, \u001b[39m*\u001b[39;49m\u001b[39m*\u001b[39;49mkwargs)\n\u001b[1;32m   2348\u001b[0m \u001b[39mreturn\u001b[39;00m result\n",
      "File \u001b[0;32m~/opt/anaconda3/lib/python3.9/site-packages/IPython/core/magics/script.py:153\u001b[0m, in \u001b[0;36mScriptMagics._make_script_magic.<locals>.named_script_magic\u001b[0;34m(line, cell)\u001b[0m\n\u001b[1;32m    151\u001b[0m \u001b[39melse\u001b[39;00m:\n\u001b[1;32m    152\u001b[0m     line \u001b[39m=\u001b[39m script\n\u001b[0;32m--> 153\u001b[0m \u001b[39mreturn\u001b[39;00m \u001b[39mself\u001b[39;49m\u001b[39m.\u001b[39;49mshebang(line, cell)\n",
      "File \u001b[0;32m~/opt/anaconda3/lib/python3.9/site-packages/IPython/core/magics/script.py:305\u001b[0m, in \u001b[0;36mScriptMagics.shebang\u001b[0;34m(self, line, cell)\u001b[0m\n\u001b[1;32m    300\u001b[0m \u001b[39mif\u001b[39;00m args\u001b[39m.\u001b[39mraise_error \u001b[39mand\u001b[39;00m p\u001b[39m.\u001b[39mreturncode \u001b[39m!=\u001b[39m \u001b[39m0\u001b[39m:\n\u001b[1;32m    301\u001b[0m     \u001b[39m# If we get here and p.returncode is still None, we must have\u001b[39;00m\n\u001b[1;32m    302\u001b[0m     \u001b[39m# killed it but not yet seen its return code. We don't wait for it,\u001b[39;00m\n\u001b[1;32m    303\u001b[0m     \u001b[39m# in case it's stuck in uninterruptible sleep. -9 = SIGKILL\u001b[39;00m\n\u001b[1;32m    304\u001b[0m     rc \u001b[39m=\u001b[39m p\u001b[39m.\u001b[39mreturncode \u001b[39mor\u001b[39;00m \u001b[39m-\u001b[39m\u001b[39m9\u001b[39m\n\u001b[0;32m--> 305\u001b[0m     \u001b[39mraise\u001b[39;00m CalledProcessError(rc, cell)\n",
      "\u001b[0;31mCalledProcessError\u001b[0m: Command 'b'#!/bin/bash\\ncat \\'output/gitsh1t/outurls.json\\' | jq -r \\'.domains\\' | cut -d \\'\"\\' -f2 | grep -wv \\'www\\' | grep -wv \\'\\\\[*\\' |cut -d \\'.\\' -f1  > \\'output/gitsh1t/gitusers.txt\\'\\n'' returned non-zero exit status 1."
     ]
    }
   ],
   "source": [
    "%%sh\n",
    "#!/bin/bash\n",
    "cat '/Users/0xdeadbeef/Repositories/HaKCerWaRez/Notebooks/output/gitshit/outurls.json' | jq -r '.domains' | cut -d '\"' -f2 | grep -wv 'www' | grep -wv '\\[*' |cut -d '.' -f1  > '/Users/0xdeadbeef/Repositories/HaKCerWaRez/Notebooks/output/gitshit/gitusers.txt'"
   ]
  },
  {
   "cell_type": "markdown",
   "id": "e1d9023b-82bc-4cb2-a561-80f04c781198",
   "metadata": {
    "tags": []
   },
   "source": [
    "```\n",
    "░░░░░░░░░░░░░░░░░░░░░░░░░░░░░░░░▒▓█ gitting SHITTT █▓▒░░░░░░░░░░░░░░░░░░░░░░░░░░░░░░░░░░\n",
    "```"
   ]
  },
  {
   "cell_type": "code",
   "execution_count": null,
   "id": "c85aefe1-8d6a-4c2f-9ff7-49cf07a1f367",
   "metadata": {
    "collapsed": true,
    "jupyter": {
     "outputs_hidden": true,
     "source_hidden": true
    },
    "tags": []
   },
   "outputs": [],
   "source": [
    "%%sh\n",
    "#!/bin/bash\n",
    "#part 0/1\n",
    "# I am a simple shell script that downloads all repositories from a user and then hunts them for sh1t.\n",
    "file=\"/Users/0xdeadbeef/Repositories/HaKCerWaRez/Notebooks/output/gitshit/gitusers.txt\"\n",
    "echo $file\n",
    "n=1\n",
    "n=$((n+1))\n",
    "cd /Users/0xdeadbeef/Repositories/HaKCerWaRez/Notebooks/output/gitshit/loot\n",
    "while read line; do\n",
    "    gituser=$(echo $line)\n",
    "    gituser=$line\n",
    "    mkdir /Users/0xdeadbeef/Repositories/HaKCerWaRez/Notebooks/output/gitshit/loot/$gituser\n",
    "done < $file\n",
    "curl -s \"https://api.github.com/users/$gituser/repos?per_page=1000\" | grep \\\"clone_url\\\" | awk '{print $2}' | sed -e 's/\"//g' -e 's/,//g' | xargs -n1 git clone\n"
   ]
  },
  {
   "cell_type": "markdown",
   "id": "bd5787e0",
   "metadata": {},
   "source": [
    "```\n",
    "░░░░░░░░░░░░░░░░░░░░░░░░░░░░░░░░▒▓█ parsing shit █▓▒░░░░░░░░░░░░░░░░░░░░░░░░░░░░░░░░░░\n",
    "```"
   ]
  },
  {
   "cell_type": "code",
   "execution_count": null,
   "id": "2e2a4c28",
   "metadata": {},
   "outputs": [],
   "source": [
    "%%sh\n",
    "#!/bin/bash\n",
    "#part 1/1\n",
    "# I am a simple shell script that downloads all repositories from a user and then hunts them for sh1t.\n",
    "echo \"\"\n",
    "echo \"  .,-:::::/  ::::::::::::::: .::::::.   ::   .:  :.::::::::::::\n",
    ",;;-''''''   ;;;;;;;;;;;'''';;;'    '  ,;;   ;;, ;;;;;;;;;;''''\n",
    "[[[   [[[[[[/[[[     [[     '[==/[[[[,,[[[,,,[[[ [[     [[\n",
    "'SSc.    'SS SSS     SS       '''    $'SS$''SS$ SS     SS\n",
    " 'Y8bo,,,o88o888     88,     88b    dP 888   '88o88     88,\n",
    "   ''YMUP'YMMMMM     MMM      'YMmMY'  MMM    YMMMM     MMM \"\n",
    "echo \"░░░░░░░░░░░░░░░░░░░░▒▓█[Git💩]█▓▒░░░░░░░░░░░░░░░░░░░░░░░░\"\n",
    "echo \"\n",
    "                Feed me a github username\n",
    "                & I will moove it moove it\n",
    "                and bring you some sh1t\n",
    "                        \\   ^__^\n",
    "                         \\  (oo)\\_______\n",
    "                            (__)\\       )\\/\n",
    "                                ||---23 | 💩\n",
    "                                ||     || \"\n",
    "echo \"\"\n",
    "shit=\"/Users/0xdeadbeef/Repositories/HaKCerWaRez/Notebooks/output/gitshit/loot/*\"    \n",
    "for r in `find $shit -path ./git -prune -o -type d -mindepth 1 -maxdepth 1` ; do\n",
    "    echo $r\n",
    "    `gitleaks detect --source \"$r\" -v -l debug -r thisreportissh1t.json -f json >> $r/sh1t.json`\n",
    "done\n",
    "\n",
    "find . -name 'sh1t.json' -exec cat {} \\;\n",
    "echo \"Go check out how full of 💩 all the 💩 I found in $gituser\""
   ]
  }
 ],
 "metadata": {
  "kernelspec": {
   "display_name": "Python 3.8.9 64-bit",
   "language": "python",
   "name": "python3"
  },
  "language_info": {
   "codemirror_mode": {
    "name": "ipython",
    "version": 3
   },
   "file_extension": ".py",
   "mimetype": "text/x-python",
   "name": "python",
   "nbconvert_exporter": "python",
   "pygments_lexer": "ipython3",
   "version": "3.8.9"
  },
  "vscode": {
   "interpreter": {
    "hash": "31f2aee4e71d21fbe5cf8b01ff0e069b9275f58929596ceb00d14d90e3e16cd6"
   }
  }
 },
 "nbformat": 4,
 "nbformat_minor": 5
}
